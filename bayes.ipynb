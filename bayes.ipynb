{
 "cells": [
  {
   "cell_type": "markdown",
   "metadata": {},
   "source": [
    "# Bayesian Classification Methods"
   ]
  },
  {
   "cell_type": "markdown",
   "metadata": {},
   "source": [
    "## 1. Preparation"
   ]
  },
  {
   "cell_type": "code",
   "execution_count": 1,
   "metadata": {},
   "outputs": [],
   "source": [
    "#Importing required libraries\n",
    "import pandas as pd\n",
    "import numpy as np\n",
    "import matplotlib.pyplot as plt\n",
    "from scipy import optimize\n",
    "import scipy as sc\n",
    "import seaborn as sn\n",
    "import os\n",
    "from sklearn.linear_model import LogisticRegression\n",
    "from sklearn.metrics import confusion_matrix\n",
    "from sklearn.model_selection import train_test_split\n",
    "from sklearn import preprocessing\n",
    "from sklearn.naive_bayes import GaussianNB\n",
    "from sklearn import metrics\n",
    "from sklearn.discriminant_analysis import LinearDiscriminantAnalysis\n",
    "from sklearn.metrics import balanced_accuracy_score\n",
    "from tabulate import tabulate"
   ]
  },
  {
   "cell_type": "code",
   "execution_count": null,
   "metadata": {},
   "outputs": [],
   "source": [
    "os.environ['KAGGLE_USERNAME'] = \"username\"\n",
    "os.environ['KAGGLE_KEY'] = \"key\"\n",
    "\n",
    "# dowload the datasets from Kaggle\n",
    "!kaggle datasets download aguado/uci-adult-data-set-1994\n",
    "\n",
    "# unzip the downloaded folder\n",
    "!unzip archive.zip"
   ]
  },
  {
   "cell_type": "code",
   "execution_count": 2,
   "metadata": {},
   "outputs": [],
   "source": [
    "# Reading dataset, identifying and dropping missing values\n",
    "\n",
    "df = pd.read_csv(\"adult.data\", header=None, names=['age', 'workclass','fnlwgt','education','education_num','marital_status','occupation',\n",
    "                                                   'relationship','race','sex','capital_gain','capital_loss','hours_per_week',\n",
    "                                                   'native_country','income'], na_values=\" ?\")\n",
    "\n",
    "df_test = pd.read_csv(\"adult.test\", header=None, names=['age', 'workclass','fnlwgt','education','education_num','marital_status','occupation',\n",
    "                                                   'relationship','race','sex','capital_gain','capital_loss','hours_per_week',\n",
    "                                                   'native_country','income'], na_values=\" ?\")"
   ]
  },
  {
   "cell_type": "markdown",
   "metadata": {},
   "source": [
    "## 2. Description of the data"
   ]
  },
  {
   "cell_type": "code",
   "execution_count": 3,
   "metadata": {},
   "outputs": [
    {
     "name": "stdout",
     "output_type": "stream",
     "text": [
      "The number of instances in the trainning set is: 32561\n",
      "The number of instances in the test set is: 16282\n",
      "The number of missing values in the trainning set is: 2399\n",
      "The number of missing values in the test set is: 1222\n"
     ]
    }
   ],
   "source": [
    "#Counting instances\n",
    "a = len(df)\n",
    "b = len(df_test)\n",
    "print(\"The number of instances in the trainning set is:\", a)\n",
    "print(\"The number of instances in the test set is:\", b)\n",
    "\n",
    "# Identifying and dropping missing values\n",
    "df = df.dropna()\n",
    "df_test = df_test.dropna()\n",
    "c = a - len(df)\n",
    "d = b - len(df_test)\n",
    "print('The number of missing values in the trainning set is:', c)\n",
    "print('The number of missing values in the test set is:', d)"
   ]
  },
  {
   "cell_type": "code",
   "execution_count": 4,
   "metadata": {},
   "outputs": [
    {
     "data": {
      "text/html": [
       "<div>\n",
       "<style scoped>\n",
       "    .dataframe tbody tr th:only-of-type {\n",
       "        vertical-align: middle;\n",
       "    }\n",
       "\n",
       "    .dataframe tbody tr th {\n",
       "        vertical-align: top;\n",
       "    }\n",
       "\n",
       "    .dataframe thead th {\n",
       "        text-align: right;\n",
       "    }\n",
       "</style>\n",
       "<table border=\"1\" class=\"dataframe\">\n",
       "  <thead>\n",
       "    <tr style=\"text-align: right;\">\n",
       "      <th></th>\n",
       "      <th>age</th>\n",
       "      <th>fnlwgt</th>\n",
       "      <th>education_num</th>\n",
       "      <th>capital_gain</th>\n",
       "      <th>capital_loss</th>\n",
       "      <th>hours_per_week</th>\n",
       "    </tr>\n",
       "  </thead>\n",
       "  <tbody>\n",
       "    <tr>\n",
       "      <th>count</th>\n",
       "      <td>30162.000000</td>\n",
       "      <td>3.016200e+04</td>\n",
       "      <td>30162.000000</td>\n",
       "      <td>30162.000000</td>\n",
       "      <td>30162.000000</td>\n",
       "      <td>30162.000000</td>\n",
       "    </tr>\n",
       "    <tr>\n",
       "      <th>mean</th>\n",
       "      <td>38.437902</td>\n",
       "      <td>1.897938e+05</td>\n",
       "      <td>10.121312</td>\n",
       "      <td>1092.007858</td>\n",
       "      <td>88.372489</td>\n",
       "      <td>40.931238</td>\n",
       "    </tr>\n",
       "    <tr>\n",
       "      <th>std</th>\n",
       "      <td>13.134665</td>\n",
       "      <td>1.056530e+05</td>\n",
       "      <td>2.549995</td>\n",
       "      <td>7406.346497</td>\n",
       "      <td>404.298370</td>\n",
       "      <td>11.979984</td>\n",
       "    </tr>\n",
       "    <tr>\n",
       "      <th>min</th>\n",
       "      <td>17.000000</td>\n",
       "      <td>1.376900e+04</td>\n",
       "      <td>1.000000</td>\n",
       "      <td>0.000000</td>\n",
       "      <td>0.000000</td>\n",
       "      <td>1.000000</td>\n",
       "    </tr>\n",
       "    <tr>\n",
       "      <th>25%</th>\n",
       "      <td>28.000000</td>\n",
       "      <td>1.176272e+05</td>\n",
       "      <td>9.000000</td>\n",
       "      <td>0.000000</td>\n",
       "      <td>0.000000</td>\n",
       "      <td>40.000000</td>\n",
       "    </tr>\n",
       "    <tr>\n",
       "      <th>50%</th>\n",
       "      <td>37.000000</td>\n",
       "      <td>1.784250e+05</td>\n",
       "      <td>10.000000</td>\n",
       "      <td>0.000000</td>\n",
       "      <td>0.000000</td>\n",
       "      <td>40.000000</td>\n",
       "    </tr>\n",
       "    <tr>\n",
       "      <th>75%</th>\n",
       "      <td>47.000000</td>\n",
       "      <td>2.376285e+05</td>\n",
       "      <td>13.000000</td>\n",
       "      <td>0.000000</td>\n",
       "      <td>0.000000</td>\n",
       "      <td>45.000000</td>\n",
       "    </tr>\n",
       "    <tr>\n",
       "      <th>max</th>\n",
       "      <td>90.000000</td>\n",
       "      <td>1.484705e+06</td>\n",
       "      <td>16.000000</td>\n",
       "      <td>99999.000000</td>\n",
       "      <td>4356.000000</td>\n",
       "      <td>99.000000</td>\n",
       "    </tr>\n",
       "  </tbody>\n",
       "</table>\n",
       "</div>"
      ],
      "text/plain": [
       "                age        fnlwgt  education_num  capital_gain  capital_loss  \\\n",
       "count  30162.000000  3.016200e+04   30162.000000  30162.000000  30162.000000   \n",
       "mean      38.437902  1.897938e+05      10.121312   1092.007858     88.372489   \n",
       "std       13.134665  1.056530e+05       2.549995   7406.346497    404.298370   \n",
       "min       17.000000  1.376900e+04       1.000000      0.000000      0.000000   \n",
       "25%       28.000000  1.176272e+05       9.000000      0.000000      0.000000   \n",
       "50%       37.000000  1.784250e+05      10.000000      0.000000      0.000000   \n",
       "75%       47.000000  2.376285e+05      13.000000      0.000000      0.000000   \n",
       "max       90.000000  1.484705e+06      16.000000  99999.000000   4356.000000   \n",
       "\n",
       "       hours_per_week  \n",
       "count    30162.000000  \n",
       "mean        40.931238  \n",
       "std         11.979984  \n",
       "min          1.000000  \n",
       "25%         40.000000  \n",
       "50%         40.000000  \n",
       "75%         45.000000  \n",
       "max         99.000000  "
      ]
     },
     "execution_count": 4,
     "metadata": {},
     "output_type": "execute_result"
    }
   ],
   "source": [
    "#Descriptive statistics for numerical features\n",
    "df.describe()"
   ]
  },
  {
   "cell_type": "code",
   "execution_count": 5,
   "metadata": {},
   "outputs": [
    {
     "name": "stdout",
     "output_type": "stream",
     "text": [
      " <=50K    0.751078\n",
      " >50K     0.248922\n",
      "Name: income, dtype: float64\n"
     ]
    },
    {
     "data": {
      "image/png": "[encoded data removed]",
      "text/plain": [
       "<Figure size 432x288 with 1 Axes>"
      ]
     },
     "metadata": {
      "needs_background": "light"
     },
     "output_type": "display_data"
    }
   ],
   "source": [
    "#Relative frequency of income feature categories\n",
    "sn.countplot(y='income', hue='income', data = df)\n",
    "print(df['income'].value_counts()/len(df))"
   ]
  },
  {
   "cell_type": "code",
   "execution_count": 6,
   "metadata": {},
   "outputs": [
    {
     "data": {
      "text/plain": [
       "<AxesSubplot:xlabel='count', ylabel='workclass'>"
      ]
     },
     "execution_count": 6,
     "metadata": {},
     "output_type": "execute_result"
    },
    {
     "data": {
      "image/png": "[encoded data removed]",
      "text/plain": [
       "<Figure size 432x288 with 1 Axes>"
      ]
     },
     "metadata": {
      "needs_background": "light"
     },
     "output_type": "display_data"
    }
   ],
   "source": [
    "sn.countplot(y='workclass', hue='income', data = df)"
   ]
  },
  {
   "cell_type": "code",
   "execution_count": 7,
   "metadata": {},
   "outputs": [
    {
     "data": {
      "text/plain": [
       "<AxesSubplot:xlabel='count', ylabel='sex'>"
      ]
     },
     "execution_count": 7,
     "metadata": {},
     "output_type": "execute_result"
    },
    {
     "data": {
      "image/png": "[encoded data removed]",
      "text/plain": [
       "<Figure size 432x288 with 1 Axes>"
      ]
     },
     "metadata": {
      "needs_background": "light"
     },
     "output_type": "display_data"
    }
   ],
   "source": [
    "sn.countplot(y='sex', hue='income', data = df)"
   ]
  },
  {
   "cell_type": "code",
   "execution_count": 8,
   "metadata": {},
   "outputs": [
    {
     "data": {
      "text/plain": [
       "<AxesSubplot:xlabel='count', ylabel='race'>"
      ]
     },
     "execution_count": 8,
     "metadata": {},
     "output_type": "execute_result"
    },
    {
     "data": {
      "image/png": "[encoded data removed]",
      "text/plain": [
       "<Figure size 432x288 with 1 Axes>"
      ]
     },
     "metadata": {
      "needs_background": "light"
     },
     "output_type": "display_data"
    }
   ],
   "source": [
    "sn.countplot(y='race', hue='income', data = df)"
   ]
  },
  {
   "cell_type": "code",
   "execution_count": 9,
   "metadata": {},
   "outputs": [
    {
     "data": {
      "text/plain": [
       "<AxesSubplot:xlabel='count', ylabel='education'>"
      ]
     },
     "execution_count": 9,
     "metadata": {},
     "output_type": "execute_result"
    },
    {
     "data": {
      "image/png": "[encoded data removed]",
      "text/plain": [
       "<Figure size 432x288 with 1 Axes>"
      ]
     },
     "metadata": {
      "needs_background": "light"
     },
     "output_type": "display_data"
    }
   ],
   "source": [
    "sn.countplot(y='education', hue='income', data = df)"
   ]
  },
  {
   "cell_type": "code",
   "execution_count": 10,
   "metadata": {
    "scrolled": true
   },
   "outputs": [
    {
     "data": {
      "text/plain": [
       "array([[<AxesSubplot:title={'center':'age'}>,\n",
       "        <AxesSubplot:title={'center':'fnlwgt'}>],\n",
       "       [<AxesSubplot:title={'center':'education_num'}>,\n",
       "        <AxesSubplot:title={'center':'capital_gain'}>],\n",
       "       [<AxesSubplot:title={'center':'capital_loss'}>,\n",
       "        <AxesSubplot:title={'center':'hours_per_week'}>]], dtype=object)"
      ]
     },
     "execution_count": 10,
     "metadata": {},
     "output_type": "execute_result"
    },
    {
     "data": {
      "image/png": "[encoded data removed]",
      "text/plain": [
       "<Figure size 720x720 with 6 Axes>"
      ]
     },
     "metadata": {
      "needs_background": "light"
     },
     "output_type": "display_data"
    }
   ],
   "source": [
    "#Histogram of numeric features\n",
    "df.hist(figsize=(10,10))"
   ]
  },
  {
   "cell_type": "code",
   "execution_count": 26,
   "metadata": {},
   "outputs": [],
   "source": [
    "#Converting categorical features in numeric\n",
    "le = preprocessing.LabelEncoder()\n",
    "df.workclass = le.fit_transform(df.workclass)\n",
    "df.education = le.fit_transform(df.education)\n",
    "df.occupation = le.fit_transform(df.occupation)\n",
    "df.native_country = le.fit_transform(df.native_country)\n",
    "df.sex = le.fit_transform(df.sex)\n",
    "df.race = le.fit_transform(df.race)\n",
    "df.marital_status = le.fit_transform(df.marital_status)\n",
    "df.income = le.fit_transform(df.income)\n",
    "df_test.workclass = le.fit_transform(df_test.workclass)\n",
    "df_test.education = le.fit_transform(df_test.education)\n",
    "df_test.occupation = le.fit_transform(df_test.occupation)\n",
    "df_test.native_country = le.fit_transform(df_test.native_country)\n",
    "df_test.sex = le.fit_transform(df_test.sex)\n",
    "df_test.race = le.fit_transform(df_test.race)\n",
    "df_test.marital_status = le.fit_transform(df_test.marital_status)\n",
    "df_test.income = le.fit_transform(df_test.income)\n",
    "\n",
    "#scaling numeric features\n",
    "X_numeric = df[['age','education_num','capital_gain','capital_loss','hours_per_week']]\n",
    "X_numeric_test = df_test[['age','education_num','capital_gain','capital_loss','hours_per_week']]\n",
    "\n",
    "normalizer = preprocessing.Normalizer().fit(X_numeric)\n",
    "X_norm = normalizer.transform(X_numeric)\n",
    "\n",
    "normalizer_test = preprocessing.Normalizer().fit(X_numeric_test)\n",
    "X_norm_test = normalizer_test.transform(X_numeric_test)\n",
    "\n",
    "\n",
    "df.age = X_norm[:,0]\n",
    "df.education_num = X_norm[:,1]\n",
    "df.capital_gain = X_norm[:,2]\n",
    "df.capital_loss = X_norm[:,3]\n",
    "df.hours_per_week = X_norm[:,4]\n",
    "\n",
    "df_test.age = X_norm_test[:,0]\n",
    "df_test.education_num = X_norm_test[:,1]\n",
    "df_test.capital_gain = X_norm_test[:,2]\n",
    "df_test.capital_loss = X_norm_test[:,3]\n",
    "df_test.hours_per_week = X_norm_test[:,4]\n",
    "\n",
    "#Creating X and y\n",
    "n1 = len(df)\n",
    "n2 = len(df_test)\n",
    "df['x0'] = np.ones(n1)\n",
    "df_test['x0'] = np.ones(n2)\n",
    "X_train = df[['x0','age','workclass','education','education_num','occupation','sex','race','capital_gain','capital_loss','hours_per_week',\n",
    "                        'native_country','marital_status']]\n",
    "X_test = df_test[['x0','age','workclass','education','education_num','occupation','sex','race','capital_gain','capital_loss','hours_per_week',\n",
    "                        'native_country','marital_status']]\n",
    "\n",
    "y_train = df['income']\n",
    "y_test = df_test['income']\n",
    "n = len(df['income'].tolist())"
   ]
  },
  {
   "cell_type": "markdown",
   "metadata": {},
   "source": [
    "## 3. Methodology"
   ]
  },
  {
   "cell_type": "markdown",
   "metadata": {},
   "source": [
    "### 3.1 Logistic Regression"
   ]
  },
  {
   "cell_type": "code",
   "execution_count": 27,
   "metadata": {},
   "outputs": [],
   "source": [
    "# Fitting the Logistic Regression model\n",
    "model = LogisticRegression(fit_intercept=False, solver=\"newton-cg\")\n",
    "model.fit(X_train, y_train)\n",
    "accuracy = model.score(X_test, y_test)\n",
    "y_pred = model.predict(X_test)\n",
    "beta_mle = np.array(model.coef_)[0,].T"
   ]
  },
  {
   "cell_type": "code",
   "execution_count": 28,
   "metadata": {},
   "outputs": [
    {
     "name": "stdout",
     "output_type": "stream",
     "text": [
      "0.7825365205843293\n",
      "[[10825   535]\n",
      " [ 2740   960]]\n",
      "10825 535 2740 960\n"
     ]
    },
    {
     "data": {
      "image/png": "[encoded data removed]",
      "text/plain": [
       "<Figure size 432x288 with 2 Axes>"
      ]
     },
     "metadata": {
      "needs_background": "light"
     },
     "output_type": "display_data"
    }
   ],
   "source": [
    "#Creating a confusion matrix and calculating accuracy for Logistic Regression\n",
    "print(accuracy)\n",
    "print(confusion_matrix(y_test, y_pred))\n",
    "\n",
    "#Calculating Precision and Recall\n",
    "tn_lr, fp_lr, fn_lr, tp_lr = confusion_matrix(y_test, y_pred).ravel()\n",
    "print(tn_lr, fp_lr, fn_lr, tp_lr)\n",
    "\n",
    "precision_lr = tp_lr/(tp_lr + fp_lr)\n",
    "recall_lr = tp_lr/(tp_lr + fn_lr)\n",
    "\n",
    "data = {'y_Actual':y_test,'y_Predicted':y_pred}\n",
    "\n",
    "cm = pd.DataFrame(data, columns=['y_Actual','y_Predicted'])\n",
    "confusion_matrix_hm = pd.crosstab(cm['y_Actual'], cm['y_Predicted'], rownames=['Actual'], colnames=['Predicted'])\n",
    "\n",
    "sn.heatmap(confusion_matrix_hm, annot=True)\n",
    "plt.show()"
   ]
  },
  {
   "cell_type": "markdown",
   "metadata": {},
   "source": [
    "### 3.2 Bayesian Logistic regression - Laplace approximation"
   ]
  },
  {
   "cell_type": "code",
   "execution_count": 29,
   "metadata": {},
   "outputs": [
    {
     "name": "stdout",
     "output_type": "stream",
     "text": [
      "iteration  1  Negative Log Posterior  20906.7052600491  AbDiff  1\n",
      "iteration  2  Negative Log Posterior  14681.81234682313  AbDiff  6224.892913225971\n",
      "iteration  3  Negative Log Posterior  14284.038033078788  AbDiff  397.77431374434127\n",
      "iteration  4  Negative Log Posterior  14261.374039408503  AbDiff  22.66399367028498\n",
      "iteration  5  Negative Log Posterior  14261.252208396747  AbDiff  0.12183101175651245\n",
      "[-1.08723904e+01  6.13449374e+00 -1.99989984e-02  5.27379799e-02\n",
      "  2.91824059e+00  2.86313419e-02  1.27890965e+00  1.50832750e-01\n",
      "  9.69768989e+00  9.04087561e+00  4.76858057e+00  1.38441215e-03\n",
      " -2.94920223e-01]\n"
     ]
    }
   ],
   "source": [
    "#Creating sigmoid function\n",
    "def sigma(x, beta):\n",
    "    xbeta = x.dot(beta)\n",
    "    d = 1. + np.exp(-xbeta)\n",
    "    return d ** (-1)\n",
    "\n",
    "#Negative log-likelihood\n",
    "def nll(beta, x, y):\n",
    "    t = y.T.dot(np.log(sigma(x, beta))) + (1 - y).T.dot(np.log(1. - sigma(x, beta)))\n",
    "    return -t\n",
    "\n",
    "#Negative posterior\n",
    "def neg_post(beta, x, y, m0, S0):\n",
    "    logprior = - .5 * (beta - m0).T @ S0 @ (beta - m0)\n",
    "    return nll(beta, x, y) - logprior\n",
    "\n",
    "#Negative posterior first derivative\n",
    "def neg_post_prime(beta, x, y, m0, S0):\n",
    "    return x.T.dot(sigma(x, beta) - y) + S0.dot(beta - m0)\n",
    "\n",
    "#Hessian\n",
    "def laplace_prec(beta, x, S0):\n",
    "    n = x.shape[0]\n",
    "    S = np.diag(sigma(x, beta) * (1 - sigma(x, beta)))\n",
    "    prec = S0.values + x.T.dot(S.dot(x))\n",
    "    return prec\n",
    "\n",
    "#Creating a function to compute Bayesian Logistic Regression using the Newton-Raphson method\n",
    "def NewtonRaphsonBayesLogReg(beta0, x, y, m0, S0, maxiter, tolerance):\n",
    "    i = 0\n",
    "    beta = beta0\n",
    "    NegLogPost = neg_post(beta, x, y, m0, S0)\n",
    "    AbDiff = 1  # anything bigger than tolerance would do here\n",
    "    while (AbDiff > tolerance) & (i < maxiter):\n",
    "        i = i + 1\n",
    "        print('iteration ', i, ' Negative Log Posterior ', NegLogPost, ' AbDiff ', AbDiff)\n",
    "        grad = neg_post_prime(beta, x, y, m0, S0)\n",
    "        H = laplace_prec(beta, x, S0)\n",
    "        h_inv = sc.linalg.inv(H)\n",
    "        beta = beta - h_inv.dot(grad)\n",
    "        NegLogPost_new = neg_post(beta, x, y, m0, S0)\n",
    "        AbDiff = np.abs(NegLogPost_new - NegLogPost)\n",
    "        NegLogPost = NegLogPost_new\n",
    "    if iter == maxiter:\n",
    "        print('Did not Converge')\n",
    "    return beta, h_inv\n",
    "\n",
    "#Fitting Bayesian Logistic Regression\n",
    "Xt = X_train\n",
    "n, p = Xt.shape\n",
    "m0 = np.zeros(p)\n",
    "S0 = Xt.T.dot(Xt) / n\n",
    "beta0 = np.zeros(p)\n",
    "tolerance = 1e-04\n",
    "maxiter = 100\n",
    "beta_map, cov = NewtonRaphsonBayesLogReg(beta0, Xt, y_train,\n",
    "                                         m0, S0, maxiter, tolerance)\n",
    "print(beta_map)"
   ]
  },
  {
   "cell_type": "code",
   "execution_count": 30,
   "metadata": {},
   "outputs": [
    {
     "name": "stdout",
     "output_type": "stream",
     "text": [
      "10800 560 2744 956\n"
     ]
    },
    {
     "data": {
      "image/png": "[encoded data removed]",
      "text/plain": [
       "<Figure size 432x288 with 2 Axes>"
      ]
     },
     "metadata": {
      "needs_background": "light"
     },
     "output_type": "display_data"
    }
   ],
   "source": [
    "#Calculate the prediction probabilities with Bayesian Logistic regression\n",
    "\n",
    "N = 10000 #number of Monte Carlo samples\n",
    "\n",
    "# draw N samples from the approximate posterior (Laplace) of beta\n",
    "betas = np.random.multivariate_normal(beta_map,cov,N)\n",
    "Xbetas = X_test.dot(betas.T)\n",
    "d = sigma(X_test,np.transpose(betas))\n",
    "pred_probs_blr = np.mean(d, axis=1)\n",
    "pred_class_blr = (pred_probs_blr > .5)\n",
    "\n",
    "#Creating a confusion matrix and calculating accuracy for Bayesian Logistic Regression\n",
    "data4 = {'y_Actual':y_test,'y_Predicted':pred_class_blr}\n",
    "\n",
    "cm4 = pd.DataFrame(data4, columns=['y_Actual','y_Predicted'])\n",
    "confusion_matrix_hm4 = pd.crosstab(cm4['y_Actual'], cm4['y_Predicted'], rownames=['Actual'], colnames=['Predicted'])\n",
    "\n",
    "#Calculating Precision and Recall\n",
    "tn_blr, fp_blr, fn_blr, tp_blr = confusion_matrix(y_test, pred_class_blr).ravel()\n",
    "print(tn_blr, fp_blr, fn_blr, tp_blr)\n",
    "\n",
    "precision_blr = tp_blr/(tp_blr + fp_blr)\n",
    "recall_blr = tp_blr/(tp_blr + fn_blr)\n",
    "\n",
    "sn.heatmap(confusion_matrix_hm4, annot=True)\n",
    "plt.show()"
   ]
  },
  {
   "cell_type": "code",
   "execution_count": 32,
   "metadata": {},
   "outputs": [
    {
     "data": {
      "text/html": [
       "<div>\n",
       "<style scoped>\n",
       "    .dataframe tbody tr th:only-of-type {\n",
       "        vertical-align: middle;\n",
       "    }\n",
       "\n",
       "    .dataframe tbody tr th {\n",
       "        vertical-align: top;\n",
       "    }\n",
       "\n",
       "    .dataframe thead th {\n",
       "        text-align: right;\n",
       "    }\n",
       "</style>\n",
       "<table border=\"1\" class=\"dataframe\">\n",
       "  <thead>\n",
       "    <tr style=\"text-align: right;\">\n",
       "      <th></th>\n",
       "      <th>post mean</th>\n",
       "      <th>post se</th>\n",
       "      <th>lower 95% bound</th>\n",
       "      <th>upper 95% bound</th>\n",
       "    </tr>\n",
       "  </thead>\n",
       "  <tbody>\n",
       "    <tr>\n",
       "      <th>x0</th>\n",
       "      <td>-10.872390</td>\n",
       "      <td>0.653955</td>\n",
       "      <td>-12.154141</td>\n",
       "      <td>-9.590639</td>\n",
       "    </tr>\n",
       "    <tr>\n",
       "      <th>age</th>\n",
       "      <td>6.134494</td>\n",
       "      <td>0.463244</td>\n",
       "      <td>5.226535</td>\n",
       "      <td>7.042453</td>\n",
       "    </tr>\n",
       "    <tr>\n",
       "      <th>workclass</th>\n",
       "      <td>-0.019999</td>\n",
       "      <td>0.015038</td>\n",
       "      <td>-0.049474</td>\n",
       "      <td>0.009476</td>\n",
       "    </tr>\n",
       "    <tr>\n",
       "      <th>education</th>\n",
       "      <td>0.052738</td>\n",
       "      <td>0.004291</td>\n",
       "      <td>0.044327</td>\n",
       "      <td>0.061149</td>\n",
       "    </tr>\n",
       "    <tr>\n",
       "      <th>education_num</th>\n",
       "      <td>2.918241</td>\n",
       "      <td>0.320705</td>\n",
       "      <td>2.289659</td>\n",
       "      <td>3.546822</td>\n",
       "    </tr>\n",
       "    <tr>\n",
       "      <th>occupation</th>\n",
       "      <td>0.028631</td>\n",
       "      <td>0.003655</td>\n",
       "      <td>0.021467</td>\n",
       "      <td>0.035796</td>\n",
       "    </tr>\n",
       "    <tr>\n",
       "      <th>sex</th>\n",
       "      <td>1.278910</td>\n",
       "      <td>0.038303</td>\n",
       "      <td>1.203835</td>\n",
       "      <td>1.353984</td>\n",
       "    </tr>\n",
       "    <tr>\n",
       "      <th>race</th>\n",
       "      <td>0.150833</td>\n",
       "      <td>0.019920</td>\n",
       "      <td>0.111789</td>\n",
       "      <td>0.189876</td>\n",
       "    </tr>\n",
       "    <tr>\n",
       "      <th>capital_gain</th>\n",
       "      <td>9.697690</td>\n",
       "      <td>0.626150</td>\n",
       "      <td>8.470437</td>\n",
       "      <td>10.924943</td>\n",
       "    </tr>\n",
       "    <tr>\n",
       "      <th>capital_loss</th>\n",
       "      <td>9.040876</td>\n",
       "      <td>0.613581</td>\n",
       "      <td>7.838256</td>\n",
       "      <td>10.243495</td>\n",
       "    </tr>\n",
       "    <tr>\n",
       "      <th>hours_per_week</th>\n",
       "      <td>4.768581</td>\n",
       "      <td>0.439543</td>\n",
       "      <td>3.907076</td>\n",
       "      <td>5.630086</td>\n",
       "    </tr>\n",
       "    <tr>\n",
       "      <th>native_country</th>\n",
       "      <td>0.001384</td>\n",
       "      <td>0.002538</td>\n",
       "      <td>-0.003590</td>\n",
       "      <td>0.006359</td>\n",
       "    </tr>\n",
       "    <tr>\n",
       "      <th>marital_status</th>\n",
       "      <td>-0.294920</td>\n",
       "      <td>0.011704</td>\n",
       "      <td>-0.317859</td>\n",
       "      <td>-0.271981</td>\n",
       "    </tr>\n",
       "  </tbody>\n",
       "</table>\n",
       "</div>"
      ],
      "text/plain": [
       "                post mean   post se  lower 95% bound  upper 95% bound\n",
       "x0             -10.872390  0.653955       -12.154141        -9.590639\n",
       "age              6.134494  0.463244         5.226535         7.042453\n",
       "workclass       -0.019999  0.015038        -0.049474         0.009476\n",
       "education        0.052738  0.004291         0.044327         0.061149\n",
       "education_num    2.918241  0.320705         2.289659         3.546822\n",
       "occupation       0.028631  0.003655         0.021467         0.035796\n",
       "sex              1.278910  0.038303         1.203835         1.353984\n",
       "race             0.150833  0.019920         0.111789         0.189876\n",
       "capital_gain     9.697690  0.626150         8.470437        10.924943\n",
       "capital_loss     9.040876  0.613581         7.838256        10.243495\n",
       "hours_per_week   4.768581  0.439543         3.907076         5.630086\n",
       "native_country   0.001384  0.002538        -0.003590         0.006359\n",
       "marital_status  -0.294920  0.011704        -0.317859        -0.271981"
      ]
     },
     "execution_count": 32,
     "metadata": {},
     "output_type": "execute_result"
    }
   ],
   "source": [
    "#95% credible intervals\n",
    "se = np.sqrt(np.diag(cov))\n",
    "lower95 = beta_map - 1.96*se\n",
    "upper95 = beta_map + 1.96*se\n",
    "\n",
    "#present the output via a pandas data frame\n",
    "results = np.column_stack([beta_map,se,lower95,upper95])\n",
    "col = ['post mean','post se','lower 95% bound','upper 95% bound']\n",
    "ind = ['x0','age','workclass','education', 'education_num','occupation','sex','race','capital_gain','capital_loss','hours_per_week',\n",
    "                        'native_country','marital_status']\n",
    "results = pd.DataFrame(results,columns = col,index=ind)\n",
    "results"
   ]
  },
  {
   "cell_type": "markdown",
   "metadata": {},
   "source": [
    "### 3.3 Linear Discriminant Analysis"
   ]
  },
  {
   "cell_type": "code",
   "execution_count": 33,
   "metadata": {},
   "outputs": [],
   "source": [
    "#Fitting the Linear Disciminant Analysis Model\n",
    "model2 = LinearDiscriminantAnalysis(solver='lsqr')\n",
    "model2.fit(X_train, y_train)\n",
    "accuracy2 = model2.score(X_test, y_test)\n",
    "y_pred2 = model2.predict(X_test)\n",
    "#beta_lda = np.array(model2.coef_)[0,].T\n",
    "#intercept = np.array([model2.intercept_])[0,]\n",
    "coef2 = np.array(model2.coef_)[0,].T\n",
    "beta_lda = np.hstack((coef2))\n",
    "model2_priors = model2.priors_\n",
    "model2_covariance = model2.covariance_"
   ]
  },
  {
   "cell_type": "code",
   "execution_count": 34,
   "metadata": {},
   "outputs": [
    {
     "name": "stdout",
     "output_type": "stream",
     "text": [
      "0.7823373173970783\n",
      "[[10731   629]\n",
      " [ 2649  1051]]\n",
      "10731 629 2649 1051\n"
     ]
    },
    {
     "data": {
      "image/png": "[encoded data removed]",
      "text/plain": [
       "<Figure size 432x288 with 2 Axes>"
      ]
     },
     "metadata": {
      "needs_background": "light"
     },
     "output_type": "display_data"
    }
   ],
   "source": [
    "#Creating a confusion matrix and calculating accuracy for Linear Discriminant Analysis\n",
    "print(accuracy2)\n",
    "print(confusion_matrix(y_test, y_pred2))\n",
    "\n",
    "#Calculating Precision and Recall\n",
    "tn_lda, fp_lda, fn_lda, tp_lda = confusion_matrix(y_test, y_pred2).ravel()\n",
    "print(tn_lda, fp_lda, fn_lda, tp_lda)\n",
    "\n",
    "precision_lda = tp_lda/(tp_lda + fp_lda)\n",
    "recall_lda = tp_lda/(tp_lda + fn_lda)\n",
    "\n",
    "data2 = {'y_Actual':y_test,'y_Predicted':y_pred2}\n",
    "\n",
    "cm2 = pd.DataFrame(data2, columns=['y_Actual','y_Predicted'])\n",
    "confusion_matrix_hm2 = pd.crosstab(cm2['y_Actual'], cm2['y_Predicted'], rownames=['Actual'], colnames=['Predicted'])\n",
    "\n",
    "sn.heatmap(confusion_matrix_hm2, annot=True)\n",
    "plt.show()"
   ]
  },
  {
   "cell_type": "markdown",
   "metadata": {},
   "source": [
    "### 3.4 Naive Bayes"
   ]
  },
  {
   "cell_type": "code",
   "execution_count": 35,
   "metadata": {},
   "outputs": [],
   "source": [
    "#Fitting the Naives Bayes Model\n",
    "model3 = GaussianNB()\n",
    "model3.fit(X_train, y_train)\n",
    "accuracy3 = model3.score(X_test, y_test)\n",
    "y_pred3 = model3.predict(X_test)"
   ]
  },
  {
   "cell_type": "code",
   "execution_count": 36,
   "metadata": {},
   "outputs": [
    {
     "name": "stdout",
     "output_type": "stream",
     "text": [
      "0.7723771580345286\n",
      "[[10481   879]\n",
      " [ 2549  1151]]\n",
      "10481 879 2549 1151\n"
     ]
    },
    {
     "data": {
      "image/png": "[encoded data removed]",
      "text/plain": [
       "<Figure size 432x288 with 2 Axes>"
      ]
     },
     "metadata": {
      "needs_background": "light"
     },
     "output_type": "display_data"
    }
   ],
   "source": [
    "#Creating a confusion matrix and calculating accuracy for Naive Bayes\n",
    "print(accuracy3)\n",
    "print(confusion_matrix(y_test, y_pred3))\n",
    "\n",
    "#Calculating Precision and Recall\n",
    "tn_nb, fp_nb, fn_nb, tp_nb = confusion_matrix(y_test, y_pred3).ravel()\n",
    "print(tn_nb, fp_nb, fn_nb, tp_nb)\n",
    "\n",
    "precision_nb = tp_nb/(tp_nb + fp_nb)\n",
    "recall_nb = tp_nb/(tp_nb + fn_nb)\n",
    "\n",
    "data3 = {'y_Actual':y_test,'y_Predicted':y_pred3}\n",
    "\n",
    "cm3 = pd.DataFrame(data3, columns=['y_Actual','y_Predicted'])\n",
    "confusion_matrix_hm3 = pd.crosstab(cm3['y_Actual'], cm3['y_Predicted'], rownames=['Actual'], colnames=['Predicted'])\n",
    "\n",
    "sn.heatmap(confusion_matrix_hm3, annot=True)\n",
    "plt.show()"
   ]
  },
  {
   "cell_type": "markdown",
   "metadata": {},
   "source": [
    "## 4. Prediction assessment"
   ]
  },
  {
   "cell_type": "code",
   "execution_count": 37,
   "metadata": {},
   "outputs": [
    {
     "name": "stdout",
     "output_type": "stream",
     "text": [
      "0.7825365205843293 7106.95862272303\n",
      "0.7825365205843293 7106.958622723031\n",
      "0.7700352350590026\n"
     ]
    },
    {
     "data": {
      "image/png": "[encoded data removed]",
      "text/plain": [
       "<Figure size 432x288 with 1 Axes>"
      ]
     },
     "metadata": {
      "needs_background": "light"
     },
     "output_type": "display_data"
    }
   ],
   "source": [
    "#prediction assessment for Logisti Regression\n",
    "predict_probs = sigma(X_test,np.transpose(beta_mle))\n",
    "predict_class = (predict_probs > .5)\n",
    "\n",
    "AccRate_MLE = np.sum(predict_class==y_test)/len(y_test) \n",
    "LS_MLE = -(y_test.T.dot(np.log(predict_probs))+(1-y_test).T.dot(np.log(1-predict_probs)))\n",
    "\n",
    "print(AccRate_MLE, LS_MLE)\n",
    "print(metrics.accuracy_score(y_test,predict_class), metrics.log_loss(y_test, predict_probs, normalize=False))\n",
    "\n",
    "fpr,tpr,thresholds = metrics.roc_curve(y_test,predict_probs)\n",
    "xgrid = np.linspace(0,1,100) \n",
    "plt.plot(fpr,tpr)\n",
    "plt.plot(xgrid,xgrid,'red')\n",
    "AUC_MLE = metrics.roc_auc_score(y_test,predict_probs)\n",
    "print(AUC_MLE)"
   ]
  },
  {
   "cell_type": "code",
   "execution_count": 38,
   "metadata": {},
   "outputs": [
    {
     "name": "stdout",
     "output_type": "stream",
     "text": [
      "0.7806108897742364 7081.67162309428 0.7726981109630758\n"
     ]
    },
    {
     "data": {
      "image/png": "[encoded data removed]",
      "text/plain": [
       "<Figure size 432x288 with 1 Axes>"
      ]
     },
     "metadata": {
      "needs_background": "light"
     },
     "output_type": "display_data"
    }
   ],
   "source": [
    "#Evaluate predictive performance of Bayesian Logistic Regression\n",
    "\n",
    "AccRate = np.sum(pred_class_blr==y_test)/len(y_test) \n",
    "LS = -(y_test.T.dot(np.log(pred_probs_blr))+(1-y_test).T.dot(np.log(1-pred_probs_blr)))\n",
    "\n",
    "fpr,tpr,thresholds = metrics.roc_curve(y_test,pred_probs_blr)\n",
    "xgrid = np.linspace(0,1,100) \n",
    "plt.plot(fpr,tpr)\n",
    "plt.plot(xgrid,xgrid,'red')\n",
    "AUC = metrics.roc_auc_score(y_test,pred_probs_blr)\n",
    "print(AccRate, LS, AUC)"
   ]
  },
  {
   "cell_type": "code",
   "execution_count": 39,
   "metadata": {},
   "outputs": [
    {
     "name": "stdout",
     "output_type": "stream",
     "text": [
      "0.7708263703844691\n"
     ]
    },
    {
     "data": {
      "image/png": "[encoded data removed]",
      "text/plain": [
       "<Figure size 432x288 with 1 Axes>"
      ]
     },
     "metadata": {
      "needs_background": "light"
     },
     "output_type": "display_data"
    }
   ],
   "source": [
    "#prediction assessment for LDA approach\n",
    "predict_probs_lda = sigma(X_test,np.transpose(beta_lda))\n",
    "predict_class_lda = (predict_probs_lda > .5)\n",
    "\n",
    "AccRate_LDA = np.sum(predict_class_lda==y_test)/len(y_test) \n",
    "LS_LDA = -(y_test.T.dot(np.log(predict_probs_lda))+(1-y_test).T.dot(np.log(1-predict_probs_lda)))\n",
    "\n",
    "fpr_lda,tpr_lda,thresholds_lda = metrics.roc_curve(y_test,predict_probs_lda)\n",
    "xgrid = np.linspace(0,1,100) \n",
    "plt.plot(fpr_lda,tpr_lda)\n",
    "plt.plot(xgrid,xgrid,'red')\n",
    "AUC_LDA = metrics.roc_auc_score(y_test,predict_probs_lda)\n",
    "print(AUC_LDA)"
   ]
  },
  {
   "cell_type": "code",
   "execution_count": 40,
   "metadata": {},
   "outputs": [
    {
     "name": "stdout",
     "output_type": "stream",
     "text": [
      "╒══════════════════════════════╤════════════╤═════════════════════╤══════════╤═════════════╤══════════╕\n",
      "│ Model                        │   Accuracy │   Balanced Accuracy │      AUC │   Precision │   Recall │\n",
      "╞══════════════════════════════╪════════════╪═════════════════════╪══════════╪═════════════╪══════════╡\n",
      "│ Logistic Regression          │   0.782537 │            0.606182 │ 0.770035 │    0.64214  │ 0.259459 │\n",
      "├──────────────────────────────┼────────────┼─────────────────────┼──────────┼─────────────┼──────────┤\n",
      "│ Bayesian Logistic Regression │   0.780611 │            0.604541 │ 0.772698 │    0.630607 │ 0.258378 │\n",
      "├──────────────────────────────┼────────────┼─────────────────────┼──────────┼─────────────┼──────────┤\n",
      "│ Linear Discriminant Analysis │   0.782337 │            0.614342 │ 0.770826 │    0.625595 │ 0.284054 │\n",
      "├──────────────────────────────┼────────────┼─────────────────────┼──────────┼─────────────┼──────────┤\n",
      "│ Naive Bayes                  │   0.772377 │            0.616852 │ 0.616852 │    0.566995 │ 0.311081 │\n",
      "╘══════════════════════════════╧════════════╧═════════════════════╧══════════╧═════════════╧══════════╛\n"
     ]
    }
   ],
   "source": [
    "#Creating table to summarise metrics\n",
    "bac1 = balanced_accuracy_score(y_test, y_pred)\n",
    "bac2 = balanced_accuracy_score(y_test, pred_class_blr)\n",
    "bac3 = balanced_accuracy_score(y_test, y_pred2)\n",
    "bac4 = balanced_accuracy_score(y_test, y_pred3)\n",
    "AUC_NB = metrics.roc_auc_score(y_test,y_pred3)\n",
    "table = [['Model','Accuracy', 'Balanced Accuracy','AUC','Precision','Recall'], ['Logistic Regression',accuracy, bac1,AUC_MLE,precision_lr,recall_lr],['Bayesian Logistic Regression', AccRate, bac2,AUC,precision_blr,recall_blr],['Linear Discriminant Analysis',accuracy2,bac3,AUC_LDA,precision_lda,recall_lda],['Naive Bayes',accuracy3,bac4,AUC_NB,precision_nb,recall_nb]]\n",
    "print(tabulate(table, headers='firstrow', tablefmt='fancy_grid'))"
   ]
  }
 ],
 "metadata": {
  "kernelspec": {
   "display_name": "Python 3 (ipykernel)",
   "language": "python",
   "name": "python3"
  },
  "language_info": {
   "codemirror_mode": {
    "name": "ipython",
    "version": 3
   },
   "file_extension": ".py",
   "mimetype": "text/x-python",
   "name": "python",
   "nbconvert_exporter": "python",
   "pygments_lexer": "ipython3",
   "version": "3.12.4"
  }
 },
 "nbformat": 4,
 "nbformat_minor": 4
}
